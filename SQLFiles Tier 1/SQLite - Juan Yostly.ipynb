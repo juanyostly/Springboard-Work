{
 "cells": [
  {
   "cell_type": "markdown",
   "id": "7c3a7dc5",
   "metadata": {},
   "source": [
    "**Import python packes and sqlite3**"
   ]
  },
  {
   "cell_type": "code",
   "execution_count": 1,
   "id": "efbfe974",
   "metadata": {},
   "outputs": [],
   "source": [
    "import pandas as pd\n",
    "import numpy as np\n",
    "import sqlite3 as sql"
   ]
  },
  {
   "cell_type": "markdown",
   "id": "527e856a",
   "metadata": {},
   "source": [
    "**Create connection to database file**"
   ]
  },
  {
   "cell_type": "code",
   "execution_count": 2,
   "id": "2e4e36f8",
   "metadata": {},
   "outputs": [],
   "source": [
    "database = 'sqlite_db_pythonsqlite.db'\n",
    "connection = sql.connect(database)"
   ]
  },
  {
   "cell_type": "markdown",
   "id": "24ac6183",
   "metadata": {},
   "source": [
    "**Q10: Produce a list of facilities with a total revenue less than 1000.\n",
    "The output of facility name and total revenue, sorted by revenue. Remember\n",
    "that there's a different cost for guests and members!**"
   ]
  },
  {
   "cell_type": "code",
   "execution_count": 3,
   "id": "a222bc1d",
   "metadata": {},
   "outputs": [],
   "source": [
    "query_q10 = '''SELECT Facilities.name, \n",
    "\tSUM(CASE WHEN Bookings.memid <> 0  \n",
    "    THEN Facilities.membercost * Bookings.slots \n",
    "    ELSE Facilities.guestcost * Bookings.slots \n",
    "    END) AS total_revenue\n",
    "FROM Facilities\n",
    "INNER JOIN Bookings ON Facilities.facid = Bookings.facid\n",
    "GROUP BY Facilities.name\n",
    "HAVING total_revenue < 1000\n",
    "ORDER BY total_revenue;'''\n",
    "\n",
    "df_q10 = pd.read_sql_query(query_q10, connection)"
   ]
  },
  {
   "cell_type": "code",
   "execution_count": 4,
   "id": "c4324aaa",
   "metadata": {},
   "outputs": [
    {
     "name": "stdout",
     "output_type": "stream",
     "text": [
      "            name  total_revenue\n",
      "0   Table Tennis            180\n",
      "1  Snooker Table            240\n",
      "2     Pool Table            270\n"
     ]
    }
   ],
   "source": [
    "print(df_q10)"
   ]
  },
  {
   "cell_type": "markdown",
   "id": "d01f1dc4",
   "metadata": {},
   "source": [
    "**Q11: Produce a report of members and who recommended them in alphabetic surname,firstname order**"
   ]
  },
  {
   "cell_type": "code",
   "execution_count": 5,
   "id": "9dec641f",
   "metadata": {},
   "outputs": [],
   "source": [
    "query_q11 = '''SELECT m.surname AS member_surname, m.firstname AS member_firstname, r.surname AS recomender_surname, r.firstname AS recomender_firstname\n",
    "FROM Members AS m\n",
    "JOIN Members AS r ON m.recommendedby = r.memid\n",
    "WHERE m.recommendedby != 0\n",
    "ORDER BY m.surname, m.firstname;'''\n",
    "\n",
    "df_q11 = pd.read_sql_query(query_q11, connection)"
   ]
  },
  {
   "cell_type": "code",
   "execution_count": 6,
   "id": "5e38ba79",
   "metadata": {},
   "outputs": [
    {
     "name": "stdout",
     "output_type": "stream",
     "text": [
      "       member_surname member_firstname recomender_surname recomender_firstname\n",
      "0               Bader         Florence           Stibbons               Ponder\n",
      "1               Baker             Anne           Stibbons               Ponder\n",
      "2               Baker          Timothy            Farrell               Jemima\n",
      "3              Boothe              Tim             Rownam                  Tim\n",
      "4             Butters           Gerald              Smith               Darren\n",
      "5              Coplin             Joan              Baker              Timothy\n",
      "6             Crumpet            Erica              Smith                Tracy\n",
      "7                Dare            Nancy           Joplette               Janice\n",
      "8             Genting          Matthew            Butters               Gerald\n",
      "9                Hunt             John            Purview            Millicent\n",
      "10              Jones            David           Joplette               Janice\n",
      "11              Jones          Douglas              Jones                David\n",
      "12           Joplette           Janice              Smith               Darren\n",
      "13          Mackenzie             Anna              Smith               Darren\n",
      "14               Owen          Charles              Smith               Darren\n",
      "15             Pinker            David            Farrell               Jemima\n",
      "16            Purview        Millicent              Smith                Tracy\n",
      "17             Rumney        Henrietta            Genting              Matthew\n",
      "18             Sarwin        Ramnaresh              Bader             Florence\n",
      "19              Smith             Jack              Smith               Darren\n",
      "20           Stibbons           Ponder              Tracy               Burton\n",
      "21  Worthington-Smyth            Henry              Smith                Tracy\n"
     ]
    }
   ],
   "source": [
    "print(df_q11)"
   ]
  },
  {
   "cell_type": "markdown",
   "id": "f65dbf66",
   "metadata": {},
   "source": [
    "**Q12: Find the facilities with their usage by member, but not guests**"
   ]
  },
  {
   "cell_type": "code",
   "execution_count": 7,
   "id": "b60c20d0",
   "metadata": {},
   "outputs": [],
   "source": [
    "query_q12 = '''SELECT f.name AS facility, m.firstname || ' ' || m.surname AS member_name, m.memid AS member_id\n",
    "FROM Bookings AS b\n",
    "INNER JOIN Facilities AS f ON b.facid = f.facid\n",
    "INNER JOIN Members AS m ON b.memid = m.memid \n",
    "WHERE b.memid != 0\n",
    "ORDER BY facility;'''\n",
    "\n",
    "df_q12 = pd.read_sql_query(query_q12, connection)"
   ]
  },
  {
   "cell_type": "code",
   "execution_count": 8,
   "id": "6ef664ba",
   "metadata": {
    "scrolled": true
   },
   "outputs": [
    {
     "name": "stdout",
     "output_type": "stream",
     "text": [
      "             facility   member_name  member_id\n",
      "0     Badminton Court  Darren Smith          1\n",
      "1     Badminton Court  Darren Smith          1\n",
      "2     Badminton Court  Darren Smith          1\n",
      "3     Badminton Court  Darren Smith          1\n",
      "4     Badminton Court  Darren Smith          1\n",
      "...               ...           ...        ...\n",
      "3155   Tennis Court 2    Tim Boothe          8\n",
      "3156   Tennis Court 2  Charles Owen         10\n",
      "3157   Tennis Court 2   David Jones         11\n",
      "3158   Tennis Court 2  Charles Owen         10\n",
      "3159   Tennis Court 2    Tim Boothe          8\n",
      "\n",
      "[3160 rows x 3 columns]\n"
     ]
    }
   ],
   "source": [
    "print(df_q12)"
   ]
  },
  {
   "cell_type": "markdown",
   "id": "31e1d9aa",
   "metadata": {},
   "source": [
    "**Q13: Find the facilities usage by month, but not guests**"
   ]
  },
  {
   "cell_type": "code",
   "execution_count": 9,
   "id": "51f7f371",
   "metadata": {},
   "outputs": [],
   "source": [
    "query_q13 = '''SELECT STRFTIME('%m', starttime) AS month, COUNT(memid) AS facility_usage\n",
    "FROM Bookings\n",
    "WHERE memid != 0\n",
    "GROUP BY month;'''\n",
    "\n",
    "df_q13 = pd.read_sql_query(query_q13, connection)"
   ]
  },
  {
   "cell_type": "code",
   "execution_count": 10,
   "id": "01dc4cf5",
   "metadata": {},
   "outputs": [
    {
     "name": "stdout",
     "output_type": "stream",
     "text": [
      "  month  facility_usage\n",
      "0    07             480\n",
      "1    08            1168\n",
      "2    09            1512\n"
     ]
    }
   ],
   "source": [
    "print(df_q13)"
   ]
  },
  {
   "cell_type": "code",
   "execution_count": 11,
   "id": "9c898d3e",
   "metadata": {},
   "outputs": [],
   "source": [
    "# Closing sql connection\n",
    "\n",
    "connection.close()"
   ]
  }
 ],
 "metadata": {
  "kernelspec": {
   "display_name": "Python 3 (ipykernel)",
   "language": "python",
   "name": "python3"
  },
  "language_info": {
   "codemirror_mode": {
    "name": "ipython",
    "version": 3
   },
   "file_extension": ".py",
   "mimetype": "text/x-python",
   "name": "python",
   "nbconvert_exporter": "python",
   "pygments_lexer": "ipython3",
   "version": "3.9.12"
  }
 },
 "nbformat": 4,
 "nbformat_minor": 5
}
